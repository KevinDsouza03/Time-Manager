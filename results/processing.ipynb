{
 "cells": [
  {
   "cell_type": "markdown",
   "metadata": {},
   "source": [
    "Processing Data"
   ]
  },
  {
   "cell_type": "code",
   "execution_count": 72,
   "metadata": {},
   "outputs": [],
   "source": [
    "import pandas as pd\n",
    "import numpy as np\n",
    "\n",
    "df = pd.read_csv(\"focus.csv\")"
   ]
  },
  {
   "cell_type": "code",
   "execution_count": 76,
   "metadata": {},
   "outputs": [
    {
     "name": "stdout",
     "output_type": "stream",
     "text": [
      "Program\n",
      "Code.exe             1 days 01:00:02\n",
      "Discord.exe          0 days 00:00:31\n",
      "SearchHost.exe       0 days 00:00:09\n",
      "Spotify.exe          0 days 00:00:12\n",
      "chrome.exe           0 days 00:01:59\n",
      "explorer.exe         0 days 00:00:11\n",
      "ms-teams.exe         0 days 00:00:57\n",
      "steamwebhelper.exe   0 days 00:01:01\n",
      "Name: TimeSpent, dtype: timedelta64[ns]\n"
     ]
    }
   ],
   "source": [
    "#First DF\n",
    "\n",
    "# At the beginning of all of this, in the raw csv, add a entry signifying the Tracking Ended. This is so we don't have\n",
    "# crazy gaps between ending and starting the next session. Add an ignorance for it.\n",
    "from datetime import datetime\n",
    "\n",
    "new_df = pd.DataFrame()\n",
    "new_df['Program'] = df['Program'].unique()\n",
    "#Taking all programs from the csv\n",
    "new_df #printing\n",
    "# Now by entry, I want to get a total time/add up datetimes. Join \"Date\" and \"Time\" then just sum up?\n",
    "df['DateTime'] = pd.to_datetime(df['Date'] + ' ' + df['Time'])\n",
    "#Makes a column w full datetime object\n",
    "\n",
    "# Sort by 'DateTime' to ensure correct time difference calculation\n",
    "df = df.sort_values(by=['DateTime'])\n",
    "\n",
    "# Current datetime - next datetime\n",
    "df['TimeSpent'] = df['DateTime'].shift(-1) - df['DateTime']\n",
    "# For the last row, set a default time (e.g., 5 seconds), as there's no next row\n",
    "df.iloc[-1, df.columns.get_loc('TimeSpent')] = pd.Timedelta(seconds=5)\n",
    "\n",
    "# Group by 'Program' and sum the total time spent for each program\n",
    "total_time_per_program = df.groupby('Program')['TimeSpent'].sum()\n",
    "print(total_time_per_program)\n"
   ]
  },
  {
   "cell_type": "code",
   "execution_count": null,
   "metadata": {},
   "outputs": [],
   "source": []
  },
  {
   "cell_type": "code",
   "execution_count": null,
   "metadata": {},
   "outputs": [],
   "source": []
  }
 ],
 "metadata": {
  "kernelspec": {
   "display_name": "env",
   "language": "python",
   "name": "python3"
  },
  "language_info": {
   "codemirror_mode": {
    "name": "ipython",
    "version": 3
   },
   "file_extension": ".py",
   "mimetype": "text/x-python",
   "name": "python",
   "nbconvert_exporter": "python",
   "pygments_lexer": "ipython3",
   "version": "3.12.3"
  }
 },
 "nbformat": 4,
 "nbformat_minor": 2
}
