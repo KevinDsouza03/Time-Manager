{
 "cells": [
  {
   "cell_type": "markdown",
   "metadata": {},
   "source": [
    "Processing Data"
   ]
  },
  {
   "cell_type": "code",
   "execution_count": 8,
   "metadata": {},
   "outputs": [
    {
     "data": {
      "text/html": [
       "<div>\n",
       "<style scoped>\n",
       "    .dataframe tbody tr th:only-of-type {\n",
       "        vertical-align: middle;\n",
       "    }\n",
       "\n",
       "    .dataframe tbody tr th {\n",
       "        vertical-align: top;\n",
       "    }\n",
       "\n",
       "    .dataframe thead th {\n",
       "        text-align: right;\n",
       "    }\n",
       "</style>\n",
       "<table border=\"1\" class=\"dataframe\">\n",
       "  <thead>\n",
       "    <tr style=\"text-align: right;\">\n",
       "      <th></th>\n",
       "      <th>id</th>\n",
       "      <th>date</th>\n",
       "      <th>time</th>\n",
       "      <th>focused</th>\n",
       "      <th>program</th>\n",
       "    </tr>\n",
       "  </thead>\n",
       "  <tbody>\n",
       "    <tr>\n",
       "      <th>0</th>\n",
       "      <td>1</td>\n",
       "      <td>09/05/2024</td>\n",
       "      <td>16:42:38</td>\n",
       "      <td>focus.py - TimeLens - Visual Studio Code</td>\n",
       "      <td>Code.exe</td>\n",
       "    </tr>\n",
       "    <tr>\n",
       "      <th>1</th>\n",
       "      <td>2</td>\n",
       "      <td>09/05/2024</td>\n",
       "      <td>16:42:45</td>\n",
       "      <td>processing.ipynb - TimeLens - Visual Studio Code</td>\n",
       "      <td>Code.exe</td>\n",
       "    </tr>\n",
       "    <tr>\n",
       "      <th>2</th>\n",
       "      <td>3</td>\n",
       "      <td>09/05/2024</td>\n",
       "      <td>16:42:46</td>\n",
       "      <td>main.py - TimeLens - Visual Studio Code</td>\n",
       "      <td>Code.exe</td>\n",
       "    </tr>\n",
       "    <tr>\n",
       "      <th>3</th>\n",
       "      <td>4</td>\n",
       "      <td>09/05/2024</td>\n",
       "      <td>16:42:49</td>\n",
       "      <td>focus.py - TimeLens - Visual Studio Code</td>\n",
       "      <td>Code.exe</td>\n",
       "    </tr>\n",
       "  </tbody>\n",
       "</table>\n",
       "</div>"
      ],
      "text/plain": [
       "   id        date      time                                           focused  \\\n",
       "0   1  09/05/2024  16:42:38          focus.py - TimeLens - Visual Studio Code   \n",
       "1   2  09/05/2024  16:42:45  processing.ipynb - TimeLens - Visual Studio Code   \n",
       "2   3  09/05/2024  16:42:46           main.py - TimeLens - Visual Studio Code   \n",
       "3   4  09/05/2024  16:42:49          focus.py - TimeLens - Visual Studio Code   \n",
       "\n",
       "    program  \n",
       "0  Code.exe  \n",
       "1  Code.exe  \n",
       "2  Code.exe  \n",
       "3  Code.exe  "
      ]
     },
     "execution_count": 8,
     "metadata": {},
     "output_type": "execute_result"
    }
   ],
   "source": [
    "import pandas as pd\n",
    "import numpy as np\n",
    "import sqlite3\n",
    "\n",
    "connection = sqlite3.connect(\"focus.db\")\n",
    "df = pd.read_sql(\"SELECT * FROM focus_logs\",connection)\n",
    "#The first thing is to add a tracking ended entry. So...\n",
    "df"
   ]
  },
  {
   "cell_type": "code",
   "execution_count": 2,
   "metadata": {},
   "outputs": [
    {
     "name": "stdout",
     "output_type": "stream",
     "text": [
      "Program\n",
      "Code.exe     0 days 00:01:52\n",
      "chrome.exe   1 days 00:49:11\n",
      "Name: TimeSpent, dtype: timedelta64[ns]\n"
     ]
    }
   ],
   "source": [
    "#First DF\n",
    "\n",
    "# At the beginning of all of this, in the raw csv, add a entry signifying the Tracking Ended. This is so we don't have\n",
    "# crazy gaps between ending and starting the next session. Add an ignorance for it.\n",
    "from datetime import datetime\n",
    "\n",
    "new_df = pd.DataFrame()\n",
    "new_df['Program'] = df['Program'].unique()\n",
    "#Taking all programs from the csv\n",
    "new_df #printing\n",
    "# Now by entry, I want to get a total time/add up datetimes. Join \"Date\" and \"Time\" then just sum up?\n",
    "df['DateTime'] = pd.to_datetime(df['Date'] + ' ' + df['Time'])\n",
    "#Makes a column w full datetime object\n",
    "\n",
    "# Sort by 'DateTime' to ensure correct time difference calculation\n",
    "df = df.sort_values(by=['DateTime'])\n",
    "\n",
    "# Current datetime - next datetime\n",
    "df['TimeSpent'] = df['DateTime'].shift(-1) - df['DateTime']\n",
    "# For the last row, set a default time (e.g., 5 seconds), as there's no next row\n",
    "df.iloc[-1, df.columns.get_loc('TimeSpent')] = pd.Timedelta(seconds=5)\n",
    "\n",
    "# Group by 'Program' and sum the total time spent for each program\n",
    "total_time_per_program = df.groupby('Program')['TimeSpent'].sum()\n",
    "print(total_time_per_program)\n"
   ]
  },
  {
   "cell_type": "code",
   "execution_count": null,
   "metadata": {},
   "outputs": [],
   "source": []
  },
  {
   "cell_type": "code",
   "execution_count": null,
   "metadata": {},
   "outputs": [],
   "source": []
  }
 ],
 "metadata": {
  "kernelspec": {
   "display_name": "env",
   "language": "python",
   "name": "python3"
  },
  "language_info": {
   "codemirror_mode": {
    "name": "ipython",
    "version": 3
   },
   "file_extension": ".py",
   "mimetype": "text/x-python",
   "name": "python",
   "nbconvert_exporter": "python",
   "pygments_lexer": "ipython3",
   "version": "3.10.9"
  }
 },
 "nbformat": 4,
 "nbformat_minor": 2
}
