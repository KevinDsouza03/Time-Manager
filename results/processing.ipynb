{
 "cells": [
  {
   "cell_type": "markdown",
   "metadata": {},
   "source": [
    "Processing Data"
   ]
  },
  {
   "cell_type": "code",
   "execution_count": 7,
   "metadata": {},
   "outputs": [
    {
     "data": {
      "text/html": [
       "<div>\n",
       "<style scoped>\n",
       "    .dataframe tbody tr th:only-of-type {\n",
       "        vertical-align: middle;\n",
       "    }\n",
       "\n",
       "    .dataframe tbody tr th {\n",
       "        vertical-align: top;\n",
       "    }\n",
       "\n",
       "    .dataframe thead th {\n",
       "        text-align: right;\n",
       "    }\n",
       "</style>\n",
       "<table border=\"1\" class=\"dataframe\">\n",
       "  <thead>\n",
       "    <tr style=\"text-align: right;\">\n",
       "      <th></th>\n",
       "      <th>id</th>\n",
       "      <th>date</th>\n",
       "      <th>time</th>\n",
       "      <th>focused</th>\n",
       "      <th>program</th>\n",
       "    </tr>\n",
       "  </thead>\n",
       "  <tbody>\n",
       "    <tr>\n",
       "      <th>0</th>\n",
       "      <td>1</td>\n",
       "      <td>09/06/2024</td>\n",
       "      <td>16:51:19</td>\n",
       "      <td>focus.py - Time-Manager - Visual Studio Code</td>\n",
       "      <td>Code.exe</td>\n",
       "    </tr>\n",
       "    <tr>\n",
       "      <th>1</th>\n",
       "      <td>2</td>\n",
       "      <td>09/06/2024</td>\n",
       "      <td>16:51:22</td>\n",
       "      <td>Efficient Time Calculation - Google Chrome</td>\n",
       "      <td>chrome.exe</td>\n",
       "    </tr>\n",
       "    <tr>\n",
       "      <th>2</th>\n",
       "      <td>3</td>\n",
       "      <td>09/06/2024</td>\n",
       "      <td>16:51:23</td>\n",
       "      <td>I tried the Scientifically Perfect Morning Rou...</td>\n",
       "      <td>chrome.exe</td>\n",
       "    </tr>\n",
       "    <tr>\n",
       "      <th>3</th>\n",
       "      <td>4</td>\n",
       "      <td>09/06/2024</td>\n",
       "      <td>16:51:34</td>\n",
       "      <td>Task Switching</td>\n",
       "      <td>explorer.exe</td>\n",
       "    </tr>\n",
       "    <tr>\n",
       "      <th>4</th>\n",
       "      <td>5</td>\n",
       "      <td>09/06/2024</td>\n",
       "      <td>16:51:35</td>\n",
       "      <td>I tried the Scientifically Perfect Morning Rou...</td>\n",
       "      <td>chrome.exe</td>\n",
       "    </tr>\n",
       "    <tr>\n",
       "      <th>5</th>\n",
       "      <td>6</td>\n",
       "      <td>09/06/2024</td>\n",
       "      <td>16:51:36</td>\n",
       "      <td>Task Switching</td>\n",
       "      <td>explorer.exe</td>\n",
       "    </tr>\n",
       "    <tr>\n",
       "      <th>6</th>\n",
       "      <td>7</td>\n",
       "      <td>09/06/2024</td>\n",
       "      <td>16:51:37</td>\n",
       "      <td>focus.py - Time-Manager - Visual Studio Code</td>\n",
       "      <td>Code.exe</td>\n",
       "    </tr>\n",
       "  </tbody>\n",
       "</table>\n",
       "</div>"
      ],
      "text/plain": [
       "   id        date      time  \\\n",
       "0   1  09/06/2024  16:51:19   \n",
       "1   2  09/06/2024  16:51:22   \n",
       "2   3  09/06/2024  16:51:23   \n",
       "3   4  09/06/2024  16:51:34   \n",
       "4   5  09/06/2024  16:51:35   \n",
       "5   6  09/06/2024  16:51:36   \n",
       "6   7  09/06/2024  16:51:37   \n",
       "\n",
       "                                             focused       program  \n",
       "0       focus.py - Time-Manager - Visual Studio Code      Code.exe  \n",
       "1         Efficient Time Calculation - Google Chrome    chrome.exe  \n",
       "2  I tried the Scientifically Perfect Morning Rou...    chrome.exe  \n",
       "3                                     Task Switching  explorer.exe  \n",
       "4  I tried the Scientifically Perfect Morning Rou...    chrome.exe  \n",
       "5                                     Task Switching  explorer.exe  \n",
       "6       focus.py - Time-Manager - Visual Studio Code      Code.exe  "
      ]
     },
     "execution_count": 7,
     "metadata": {},
     "output_type": "execute_result"
    }
   ],
   "source": [
    "import pandas as pd\n",
    "import numpy as np\n",
    "import sqlite3\n",
    "\n",
    "connection = sqlite3.connect(\"focus.db\")\n",
    "df = pd.read_sql(\"SELECT * FROM focus_logs\",connection)\n",
    "#The first thing is to add a tracking ended entry. So...\n",
    "df"
   ]
  },
  {
   "cell_type": "code",
   "execution_count": 8,
   "metadata": {},
   "outputs": [
    {
     "name": "stdout",
     "output_type": "stream",
     "text": [
      "program\n",
      "chrome.exe     0 days 00:00:13\n",
      "Code.exe       0 days 00:00:08\n",
      "explorer.exe   0 days 00:00:02\n",
      "Name: timespent, dtype: timedelta64[ns]\n"
     ]
    }
   ],
   "source": [
    "#First DF\n",
    "\n",
    "# At the beginning of all of this, in the raw csv, add a entry signifying the Tracking Ended. This is so we don't have\n",
    "# crazy gaps between ending and starting the next session. Add an ignorance for it.\n",
    "from datetime import datetime\n",
    "# Now by entry, I want to get a total time/add up datetimes. Join \"Date\" and \"Time\" then just sum up?\n",
    "df['datetime'] = pd.to_datetime(df['date'] + ' ' + df['time'])\n",
    "#Makes a column w full datetime object\n",
    "\n",
    "# Sort by 'DateTime' to ensure correct time difference calculation\n",
    "df = df.sort_values(by=['datetime'])\n",
    "\n",
    "# Current datetime - next datetime\n",
    "df['timespent'] = df['datetime'].shift(-1) - df['datetime']\n",
    "# For the last row, set a default time (e.g., 5 seconds), as there's no next row\n",
    "df.iloc[-1, df.columns.get_loc('timespent')] = pd.Timedelta(seconds=5)\n",
    "\n",
    "# Group by 'Program' and sum the total time spent for each program\n",
    "total_time_per_program = df.groupby('program')['timespent'].sum()\n",
    "print(total_time_per_program.sort_values(ascending=False))\n"
   ]
  },
  {
   "cell_type": "code",
   "execution_count": 10,
   "metadata": {},
   "outputs": [],
   "source": [
    "#Task: Storing insights into the database\n",
    "insights_data = {\n",
    "    'total_time': total_time_per_program\n",
    "}\n",
    "cursor = connection.cursor()\n",
    "\n",
    "# Insert or update insights for each program\n",
    "for program, total_time in total_time_per_program.items():\n",
    "\n",
    "    # Insert or update the row for the program\n",
    "    cursor.execute('''\n",
    "        INSERT INTO insights (program, total_time)\n",
    "        VALUES (?, ?)\n",
    "        ON CONFLICT(program) DO UPDATE SET \n",
    "        total_time = excluded.total_time,\n",
    "        last_updated = CURRENT_TIMESTAMP\n",
    "    ''', (program, str(total_time)))\n"
   ]
  },
  {
   "cell_type": "code",
   "execution_count": null,
   "metadata": {},
   "outputs": [],
   "source": []
  },
  {
   "cell_type": "code",
   "execution_count": null,
   "metadata": {},
   "outputs": [],
   "source": []
  }
 ],
 "metadata": {
  "kernelspec": {
   "display_name": "env",
   "language": "python",
   "name": "python3"
  },
  "language_info": {
   "codemirror_mode": {
    "name": "ipython",
    "version": 3
   },
   "file_extension": ".py",
   "mimetype": "text/x-python",
   "name": "python",
   "nbconvert_exporter": "python",
   "pygments_lexer": "ipython3",
   "version": "3.12.3"
  }
 },
 "nbformat": 4,
 "nbformat_minor": 2
}
